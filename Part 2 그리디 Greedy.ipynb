{
 "cells": [
  {
   "cell_type": "markdown",
   "metadata": {},
   "source": [
    "# 그리디"
   ]
  },
  {
   "cell_type": "code",
   "execution_count": 1,
   "metadata": {},
   "outputs": [
    {
     "name": "stdout",
     "output_type": "stream",
     "text": [
      "6\n"
     ]
    }
   ],
   "source": [
    "# 거스름돈 (p.87)\n",
    "\n",
    "# 거슬러줘야 할 동전의 최소 개수\n",
    "# 가장 큰 화폐 단위부터 돈을 거슬러 주는 방법\n",
    "# 거슬러줘야 할 돈 = N원 = 500원,100원,50원,10원 (항상 10배수)\n",
    "\n",
    "n = 1260\n",
    "count = 0\n",
    "\n",
    "coin_types = [500,100,50,10]\n",
    "\n",
    "for coin in coin_types:\n",
    "    count += n // coin       # // = 몫 연산자\n",
    "    n %= coin                # % = 나머지 연산자\n",
    "    \n",
    "print(count)\n",
    "\n",
    "# 500 2개 \n",
    "# 100 2개\n",
    "# 50  1개\n",
    "# 10  1개\n",
    "\n",
    "# 시간 복잡도 = O(K)"
   ]
  },
  {
   "cell_type": "code",
   "execution_count": 2,
   "metadata": {},
   "outputs": [
    {
     "name": "stdout",
     "output_type": "stream",
     "text": [
      "5 8 3\n",
      "2 4 5 4 6\n",
      "46\n"
     ]
    }
   ],
   "source": [
    "# 큰 수의 법칙 (p.92)\n",
    "\n",
    "# 배열에 있는 수를 더하여 가장 큰 수 만들기\n",
    "# N = 배열의 크기\n",
    "# M = 총 더하는 횟수\n",
    "# K = 하나의 인덱스를 연속해서 더할수있는 최대 횟수\n",
    "\n",
    "n,m,k = map(int,input().split())\n",
    "data = list(map(int, input().split()))\n",
    "\n",
    "data = sorted(data, reverse = True)\n",
    "for i in data:\n",
    "    first_max = data[0]\n",
    "    second_max = data[1]\n",
    "    \n",
    "result = 0\n",
    "\n",
    "while True:\n",
    "    for i in range(k):\n",
    "        if m == 0:\n",
    "            break\n",
    "        result += first_max\n",
    "        m -= 1\n",
    "        \n",
    "    if m == 0:\n",
    "        break\n",
    "    result += second_max\n",
    "    m -= 1\n",
    "    \n",
    "print(result)"
   ]
  },
  {
   "cell_type": "code",
   "execution_count": 3,
   "metadata": {},
   "outputs": [
    {
     "name": "stdout",
     "output_type": "stream",
     "text": [
      "5 8 3\n",
      "2 4 5 4 6\n",
      "46\n"
     ]
    }
   ],
   "source": [
    "# 큰 수의 법칙 (p.92) 2nd solution\n",
    "\n",
    "n,m,k = map(int,input().split())\n",
    "data = list(map(int, input().split()))\n",
    "\n",
    "data = sorted(data, reverse = True)\n",
    "for i in data:\n",
    "    first_max = data[0]\n",
    "    second_max = data[1]\n",
    "\n",
    "#가장 큰 수가 더해지는 총 횟수\n",
    "count = m // (k+1) * k\n",
    "count += m % (k+1)\n",
    "\n",
    "result = 0\n",
    "result += count * first_max\n",
    "result += (m-count) * second_max\n",
    "\n",
    "print(result)"
   ]
  },
  {
   "cell_type": "code",
   "execution_count": 5,
   "metadata": {},
   "outputs": [
    {
     "name": "stdout",
     "output_type": "stream",
     "text": [
      "2 4\n",
      "7 3 1 8\n",
      "3 3 3 4\n",
      "3\n"
     ]
    }
   ],
   "source": [
    "# 숫자 카드 게임 (p.96)\n",
    "\n",
    "# N x M = 행x열\n",
    "# 가장 높은 숫자 카드 뽑는 게임\n",
    "\n",
    "n,m = map(int,input().split())\n",
    "\n",
    "result = 0\n",
    "for i in range(n):\n",
    "    data = list(map(int,input().split()))\n",
    "    min_value = min(data)                  # 각 행에서 최솟값\n",
    "    result = max(result, min_value)\n",
    "\n",
    "print(result)"
   ]
  },
  {
   "cell_type": "code",
   "execution_count": 14,
   "metadata": {},
   "outputs": [
    {
     "name": "stdout",
     "output_type": "stream",
     "text": [
      "25 5\n",
      "2\n"
     ]
    }
   ],
   "source": [
    "# 1이 될 때까지 (p.99)\n",
    "\n",
    "# N 이 1이 될 때까지 반복 수행\n",
    "# 1. N-1\n",
    "# 2. N / K\n",
    "\n",
    "n,k = map(int, input().split())\n",
    "result = 0\n",
    "\n",
    "while n >= k:\n",
    "    while n % k != 0:\n",
    "        n -= 1\n",
    "        result += 1\n",
    "    n //= k\n",
    "    result += 1\n",
    "\n",
    "while n>1:\n",
    "    n -= 1\n",
    "    result += 1\n",
    "    \n",
    "print(result)"
   ]
  },
  {
   "cell_type": "code",
   "execution_count": 1,
   "metadata": {},
   "outputs": [
    {
     "name": "stdout",
     "output_type": "stream",
     "text": [
      "25 5\n",
      "2\n"
     ]
    }
   ],
   "source": [
    "# 1이 될 때까지 (p.99) 2nd Solution\n",
    "\n",
    "n,k = map(int, input().split())\n",
    "result = 0\n",
    "\n",
    "while True:\n",
    "    target = (n//k) * k\n",
    "    result += (n-target)\n",
    "    n = target\n",
    "    \n",
    "    if n < k:\n",
    "        break\n",
    "    result += 1\n",
    "    n //= k\n",
    "\n",
    "result += (n-1)\n",
    "print(result)"
   ]
  },
  {
   "cell_type": "code",
   "execution_count": null,
   "metadata": {},
   "outputs": [],
   "source": []
  }
 ],
 "metadata": {
  "kernelspec": {
   "display_name": "Python 3",
   "language": "python",
   "name": "python3"
  },
  "language_info": {
   "codemirror_mode": {
    "name": "ipython",
    "version": 3
   },
   "file_extension": ".py",
   "mimetype": "text/x-python",
   "name": "python",
   "nbconvert_exporter": "python",
   "pygments_lexer": "ipython3",
   "version": "3.8.5"
  }
 },
 "nbformat": 4,
 "nbformat_minor": 4
}
